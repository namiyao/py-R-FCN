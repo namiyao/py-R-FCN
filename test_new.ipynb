{
 "cells": [
  {
   "cell_type": "code",
   "execution_count": null,
   "metadata": {
    "collapsed": true
   },
   "outputs": [],
   "source": [
    "import math\n",
    "import numpy as np\n",
    "import pandas as pd\n",
    "\n",
    "import matplotlib.pyplot as plt\n",
    "%matplotlib inline"
   ]
  },
  {
   "cell_type": "code",
   "execution_count": null,
   "metadata": {
    "collapsed": true
   },
   "outputs": [],
   "source": [
    "%run ./tools/test_net.py --gpu 0 --def models/pascal_voc/ResNet-50/rfcn_end2end/test_agnostic.prototxt --net /home/ubuntu/py-R-FCN/output/rfcn_end2end_ohem/voc_2007_trainval/resnet50_rfcn_ohem_iter_20000.caffemodel --imdb voc_2007_test --cfg experiments/cfgs/rfcn_end2end_ohem.yml"
   ]
  },
  {
   "cell_type": "code",
   "execution_count": null,
   "metadata": {
    "collapsed": true
   },
   "outputs": [],
   "source": [
    "import cPickle  \n",
    "with open('output/rfcn_end2end_ohem/voc_2007_test/resnet50_rfcn_ohem_iter_20000/test_preds.pkl','rb') as f:\n",
    "    test_train_preds = cPickle.load(f)  \n",
    "    \n",
    "test_preds = test_train_preds[:1000]\n",
    "train_preds = test_train_preds[1000:,:]"
   ]
  },
  {
   "cell_type": "code",
   "execution_count": null,
   "metadata": {
    "collapsed": true
   },
   "outputs": [],
   "source": [
    "import cPickle  \n",
    "with open('output/rfcn_end2end_ohem/voc_2007_test/resnet50_rfcn_ohem_iter_20000/detections_full.pkl','rb') as f:\n",
    "    detections_full = cPickle.load(f) \n",
    "    \n",
    "CONF_THRESH = 0.8\n",
    "outputs = []\n",
    "\n",
    "for im in range(len(detections_full[0])):\n",
    "    outputs_im = []\n",
    "    for cls in range(1,len(FISH_CLASSES)):\n",
    "        detects = detections_full[cls][im]\n",
    "        for i in range(len(detects)):\n",
    "            if np.max(detects[i,5:]) >= CONF_THRESH:\n",
    "                outputs_im.append(detects[i,4:])\n",
    "    if len(outputs_im) == 0:\n",
    "        outputs_im.append(test_train_preds[im])\n",
    "    outputs_im = np.asarray(outputs_im)\n",
    "    outputs_im = np.mean(outputs_im, axis=0)\n",
    "    outputs.append(outputs_im)\n",
    "outputs = np.asarray(outputs)\n",
    "\n",
    "test_preds = outputs[:1000]\n",
    "train_preds = outputs[1000:,:]"
   ]
  },
  {
   "cell_type": "code",
   "execution_count": null,
   "metadata": {
    "collapsed": true
   },
   "outputs": [],
   "source": [
    "FISH_CLASSES = ['NoF', 'ALB', 'BET', 'DOL', 'LAG','OTHER', 'SHARK', 'YFT']\n",
    "\n",
    "with open(\"./data/VOCdevkit2007/VOC2007/ImageSets/Main/test.txt\",\"r\") as f:\n",
    "    ims = f.readlines()\n",
    "test_files = [im[:-1]+'.jpg' for im in ims[:1000]]\n",
    "train_files = [im[:-1] for im in ims[1000:]]\n",
    "print(len(train_files))\n",
    "with open(\"./data/VOCdevkit2007/VOC2007/ImageSets/Main/train_test.txt\",\"r\") as f:\n",
    "    train_file_labels = f.readlines()\n",
    "\n",
    "log_losses = []\n",
    "for i in range(len(train_preds)):\n",
    "    im = train_files[i]\n",
    "    for im_label in train_file_labels:\n",
    "        if im == im_label[:9]:\n",
    "            label = im_label[10:-1]\n",
    "            index = FISH_CLASSES.index(label)\n",
    "            log_losses.append(-math.log(train_preds[i,index]))\n",
    "log_loss = sum(log_losses) / float(len(log_losses))\n",
    "print('logloss of train is', log_loss )"
   ]
  },
  {
   "cell_type": "code",
   "execution_count": null,
   "metadata": {
    "collapsed": true
   },
   "outputs": [],
   "source": [
    "import datetime\n",
    "\n",
    "submission = pd.DataFrame(test_preds, columns=FISH_CLASSES)\n",
    "#submission.loc[:, 'image'] = pd.Series(test_files, index=submission.index)\n",
    "submission.insert(0, 'image', test_files)\n",
    "\n",
    "now = datetime.datetime.now()\n",
    "info = 'RFCN_' + '{:.4f}'.format(log_loss)\n",
    "sub_file = 'submission_' + info + '_' + str(now.strftime(\"%Y-%m-%d-%H-%M\")) + '.csv'\n",
    "submission.to_csv(sub_file, index=False)"
   ]
  },
  {
   "cell_type": "code",
   "execution_count": null,
   "metadata": {
    "collapsed": true
   },
   "outputs": [],
   "source": [
    "import cPickle  \n",
    "with open('output/rfcn_end2end_ohem/voc_2007_test/resnet50_rfcn_ohem_iter_20000/detections.pkl','rb') as f:\n",
    "    detections = cPickle.load(f)  "
   ]
  }
 ],
 "metadata": {
  "kernelspec": {
   "display_name": "Python 2",
   "language": "python",
   "name": "python2"
  },
  "language_info": {
   "codemirror_mode": {
    "name": "ipython",
    "version": 2
   },
   "file_extension": ".py",
   "mimetype": "text/x-python",
   "name": "python",
   "nbconvert_exporter": "python",
   "pygments_lexer": "ipython2",
   "version": "2.7.13"
  }
 },
 "nbformat": 4,
 "nbformat_minor": 2
}
